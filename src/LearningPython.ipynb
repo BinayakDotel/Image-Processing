{
 "cells": [
  {
   "cell_type": "code",
   "execution_count": 6,
   "id": "103292cc",
   "metadata": {},
   "outputs": [
    {
     "name": "stdout",
     "output_type": "stream",
     "text": [
      "    age  gender      genre\n",
      "0    20       1     HipHop\n",
      "1    23       1     HipHop\n",
      "2    25       1     HipHop\n",
      "3    26       1       Jazz\n",
      "4    29       1       Jazz\n",
      "5    30       1       Jazz\n",
      "6    31       1  Classical\n",
      "7    33       1  Classical\n",
      "8    37       1  Classical\n",
      "9    20       0      Dance\n",
      "10   21       0      Dance\n",
      "11   25       0      Dance\n",
      "12   26       0   Acoustic\n",
      "13   27       0   Acoustic\n",
      "14   30       0   Acoustic\n",
      "15   31       0  Classical\n",
      "16   34       0  Classical\n",
      "17   35       0  Classical\n",
      "['Acoustic']\n"
     ]
    },
    {
     "data": {
      "text/plain": [
       "1.0"
      ]
     },
     "execution_count": 6,
     "metadata": {},
     "output_type": "execute_result"
    }
   ],
   "source": [
    "import pandas as pd\n",
    "from sklearn.tree import DecisionTreeClassifier\n",
    "from sklearn.model_selection import train_test_split\n",
    "from sklearn.metrics import accuracy_score\n",
    "from sklearn import preprocessing\n",
    "    \n",
    "heart_data = pd.read_csv('music.csv')\n",
    "\n",
    "heart_data\n",
    "#This section is responsible to convert the data in string type to int\n",
    "# Example: M or F (Male/Female) is represented by 1 or 0\n",
    "'''le = preprocessing.LabelEncoder()\n",
    "for column_name in music_data.columns:\n",
    "    if heart_data[column_name].dtype == object:\n",
    "        heart_data[column_name] = le.fit_transform(heart_data[column_name])\n",
    "    else:\n",
    "        pass\n",
    "'''\n",
    "#Creating input set\n",
    "X = heart_data.drop(columns=['genre'])\n",
    "\n",
    "#Creating output set\n",
    "Y = heart_data['genre']\n",
    "\n",
    "#We split the datas into train and test data (ie. generally 80% for train and 20% for test)\n",
    "X_train, X_test, Y_train, Y_test = train_test_split(X, Y, test_size = 0.02)\n",
    "\n",
    "print(heart_data)\n",
    "\n",
    "#Here we create a model by using specfic algorithm. Here, we used DecisionTreeClassifier()\n",
    "model = DecisionTreeClassifier()\n",
    "\n",
    "#We feed the input and output train data into the model\n",
    "model.fit(X_train.values, Y_train)\n",
    "\n",
    "#Now, we use the test set for prediction\n",
    "prediction = model.predict(X_test.values)\n",
    "print(prediction)\n",
    "#This is used to check the accuracry score of the model\n",
    "score = accuracy_score(Y_test, prediction)\n",
    "score\n"
   ]
  },
  {
   "cell_type": "code",
   "execution_count": null,
   "id": "42200ca7",
   "metadata": {},
   "outputs": [],
   "source": []
  }
 ],
 "metadata": {
  "kernelspec": {
   "display_name": "Python 3 (ipykernel)",
   "language": "python",
   "name": "python3"
  },
  "language_info": {
   "codemirror_mode": {
    "name": "ipython",
    "version": 3
   },
   "file_extension": ".py",
   "mimetype": "text/x-python",
   "name": "python",
   "nbconvert_exporter": "python",
   "pygments_lexer": "ipython3",
   "version": "3.10.0"
  }
 },
 "nbformat": 4,
 "nbformat_minor": 5
}
